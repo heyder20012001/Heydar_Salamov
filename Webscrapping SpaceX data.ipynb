{
 "cells": [
  {
   "cell_type": "markdown",
   "metadata": {},
   "source": [
    "<p style=\"text-align:center\">\n",
    "    <a href=\"https://skills.network\" target=\"_blank\">\n",
    "    <img src=\"https://cf-courses-data.s3.us.cloud-object-storage.appdomain.cloud/assets/logos/SN_web_lightmode.png\" width=\"200\" alt=\"Skills Network Logo\">\n",
    "    </a>\n",
    "</p>\n"
   ]
  },
  {
   "cell_type": "markdown",
   "metadata": {},
   "source": [
    "# **Space X  Falcon 9 First Stage Landing Prediction**\n"
   ]
  },
  {
   "cell_type": "markdown",
   "metadata": {},
   "source": [
    "## Web scraping Falcon 9 and Falcon Heavy Launches Records from Wikipedia\n"
   ]
  },
  {
   "cell_type": "markdown",
   "metadata": {},
   "source": [
    "Estimated time needed: **40** minutes\n"
   ]
  },
  {
   "cell_type": "markdown",
   "metadata": {},
   "source": [
    "In this lab, you will be performing web scraping to collect Falcon 9 historical launch records from a Wikipedia page titled `List of Falcon 9 and Falcon Heavy launches`\n",
    "\n",
    "https://en.wikipedia.org/wiki/List_of_Falcon_9_and_Falcon_Heavy_launches\n"
   ]
  },
  {
   "cell_type": "markdown",
   "metadata": {},
   "source": [
    "![](https://cf-courses-data.s3.us.cloud-object-storage.appdomain.cloud/IBM-DS0321EN-SkillsNetwork/labs/module_1_L2/images/Falcon9_rocket_family.svg)\n"
   ]
  },
  {
   "cell_type": "markdown",
   "metadata": {},
   "source": [
    "Falcon 9 first stage will land successfully\n"
   ]
  },
  {
   "cell_type": "markdown",
   "metadata": {},
   "source": [
    "![](https://cf-courses-data.s3.us.cloud-object-storage.appdomain.cloud/IBMDeveloperSkillsNetwork-DS0701EN-SkillsNetwork/api/Images/landing_1.gif)\n"
   ]
  },
  {
   "cell_type": "markdown",
   "metadata": {},
   "source": [
    "Several examples of an unsuccessful landing are shown here:\n"
   ]
  },
  {
   "cell_type": "markdown",
   "metadata": {},
   "source": [
    "![](https://cf-courses-data.s3.us.cloud-object-storage.appdomain.cloud/IBMDeveloperSkillsNetwork-DS0701EN-SkillsNetwork/api/Images/crash.gif)\n"
   ]
  },
  {
   "cell_type": "markdown",
   "metadata": {},
   "source": [
    "More specifically, the launch records are stored in a HTML table shown below:\n"
   ]
  },
  {
   "cell_type": "markdown",
   "metadata": {},
   "source": [
    "![](https://cf-courses-data.s3.us.cloud-object-storage.appdomain.cloud/IBM-DS0321EN-SkillsNetwork/labs/module_1_L2/images/falcon9-launches-wiki.png)\n"
   ]
  },
  {
   "cell_type": "markdown",
   "metadata": {},
   "source": [
    "  ## Objectives\n",
    "Web scrap Falcon 9 launch records with `BeautifulSoup`: \n",
    "- Extract a Falcon 9 launch records HTML table from Wikipedia\n",
    "- Parse the table and convert it into a Pandas data frame\n"
   ]
  },
  {
   "cell_type": "markdown",
   "metadata": {},
   "source": [
    "First let's import required packages for this lab\n"
   ]
  },
  {
   "cell_type": "code",
   "execution_count": 1,
   "metadata": {
    "tags": []
   },
   "outputs": [
    {
     "name": "stdout",
     "output_type": "stream",
     "text": [
      "Requirement already satisfied: beautifulsoup4 in /home/jupyterlab/conda/envs/python/lib/python3.7/site-packages (4.11.1)\n",
      "Requirement already satisfied: soupsieve>1.2 in /home/jupyterlab/conda/envs/python/lib/python3.7/site-packages (from beautifulsoup4) (2.3.2.post1)\n",
      "Requirement already satisfied: requests in /home/jupyterlab/conda/envs/python/lib/python3.7/site-packages (2.29.0)\n",
      "Requirement already satisfied: charset-normalizer<4,>=2 in /home/jupyterlab/conda/envs/python/lib/python3.7/site-packages (from requests) (3.1.0)\n",
      "Requirement already satisfied: idna<4,>=2.5 in /home/jupyterlab/conda/envs/python/lib/python3.7/site-packages (from requests) (3.4)\n",
      "Requirement already satisfied: urllib3<1.27,>=1.21.1 in /home/jupyterlab/conda/envs/python/lib/python3.7/site-packages (from requests) (1.26.15)\n",
      "Requirement already satisfied: certifi>=2017.4.17 in /home/jupyterlab/conda/envs/python/lib/python3.7/site-packages (from requests) (2023.5.7)\n"
     ]
    }
   ],
   "source": [
    "!pip3 install beautifulsoup4\n",
    "!pip3 install requests"
   ]
  },
  {
   "cell_type": "code",
   "execution_count": 2,
   "metadata": {
    "tags": []
   },
   "outputs": [],
   "source": [
    "import sys\n",
    "\n",
    "import requests\n",
    "from bs4 import BeautifulSoup\n",
    "import re\n",
    "import unicodedata\n",
    "import pandas as pd"
   ]
  },
  {
   "cell_type": "markdown",
   "metadata": {},
   "source": [
    "and we will provide some helper functions for you to process web scraped HTML table\n"
   ]
  },
  {
   "cell_type": "code",
   "execution_count": 3,
   "metadata": {
    "tags": []
   },
   "outputs": [],
   "source": [
    "def date_time(table_cells):\n",
    "    \"\"\"\n",
    "    This function returns the data and time from the HTML  table cell\n",
    "    Input: the  element of a table data cell extracts extra row\n",
    "    \"\"\"\n",
    "    return [data_time.strip() for data_time in list(table_cells.strings)][0:2]\n",
    "\n",
    "def booster_version(table_cells):\n",
    "    \"\"\"\n",
    "    This function returns the booster version from the HTML  table cell \n",
    "    Input: the  element of a table data cell extracts extra row\n",
    "    \"\"\"\n",
    "    out=''.join([booster_version for i,booster_version in enumerate( table_cells.strings) if i%2==0][0:-1])\n",
    "    return out\n",
    "\n",
    "def landing_status(table_cells):\n",
    "    \"\"\"\n",
    "    This function returns the landing status from the HTML table cell \n",
    "    Input: the  element of a table data cell extracts extra row\n",
    "    \"\"\"\n",
    "    out=[i for i in table_cells.strings][0]\n",
    "    return out\n",
    "\n",
    "\n",
    "def get_mass(table_cells):\n",
    "    mass=unicodedata.normalize(\"NFKD\", table_cells.text).strip()\n",
    "    if mass:\n",
    "        mass.find(\"kg\")\n",
    "        new_mass=mass[0:mass.find(\"kg\")+2]\n",
    "    else:\n",
    "        new_mass=0\n",
    "    return new_mass\n",
    "\n",
    "\n",
    "def extract_column_from_header(row):\n",
    "    \"\"\"\n",
    "    This function returns the landing status from the HTML table cell \n",
    "    Input: the  element of a table data cell extracts extra row\n",
    "    \"\"\"\n",
    "    if (row.br):\n",
    "        row.br.extract()\n",
    "    if row.a:\n",
    "        row.a.extract()\n",
    "    if row.sup:\n",
    "        row.sup.extract()\n",
    "        \n",
    "    colunm_name = ' '.join(row.contents)\n",
    "    \n",
    "    # Filter the digit and empty names\n",
    "    if not(colunm_name.strip().isdigit()):\n",
    "        colunm_name = colunm_name.strip()\n",
    "        return colunm_name    \n"
   ]
  },
  {
   "cell_type": "markdown",
   "metadata": {},
   "source": [
    "To keep the lab tasks consistent, you will be asked to scrape the data from a snapshot of the  `List of Falcon 9 and Falcon Heavy launches` Wikipage updated on\n",
    "`9th June 2021`\n"
   ]
  },
  {
   "cell_type": "code",
   "execution_count": 4,
   "metadata": {
    "tags": []
   },
   "outputs": [],
   "source": [
    "static_url = \"https://en.wikipedia.org/w/index.php?title=List_of_Falcon_9_and_Falcon_Heavy_launches&oldid=1027686922\""
   ]
  },
  {
   "cell_type": "markdown",
   "metadata": {},
   "source": [
    "Next, request the HTML page from the above URL and get a `response` object\n"
   ]
  },
  {
   "cell_type": "markdown",
   "metadata": {},
   "source": [
    "### TASK 1: Request the Falcon9 Launch Wiki page from its URL\n"
   ]
  },
  {
   "cell_type": "markdown",
   "metadata": {},
   "source": [
    "First, let's perform an HTTP GET method to request the Falcon9 Launch HTML page, as an HTTP response.\n"
   ]
  },
  {
   "cell_type": "code",
   "execution_count": 6,
   "metadata": {
    "tags": []
   },
   "outputs": [],
   "source": [
    "page=requests.get(static_url).text # use requests.get() method with the provided static_url\n",
    "# assign the response to a object"
   ]
  },
  {
   "cell_type": "markdown",
   "metadata": {},
   "source": [
    "Create a `BeautifulSoup` object from the HTML `response`\n"
   ]
  },
  {
   "cell_type": "code",
   "execution_count": 8,
   "metadata": {
    "tags": []
   },
   "outputs": [],
   "source": [
    "soup=BeautifulSoup(page,\"html.parser\")# Use BeautifulSoup() to create a BeautifulSoup object from a response text content"
   ]
  },
  {
   "cell_type": "markdown",
   "metadata": {},
   "source": [
    "Print the page title to verify if the `BeautifulSoup` object was created properly \n"
   ]
  },
  {
   "cell_type": "markdown",
   "metadata": {},
   "source": [
    "### TASK 2: Extract all column/variable names from the HTML table header\n"
   ]
  },
  {
   "cell_type": "markdown",
   "metadata": {},
   "source": [
    "Next, we want to collect all relevant column names from the HTML table header\n"
   ]
  },
  {
   "cell_type": "markdown",
   "metadata": {},
   "source": [
    "Let's try to find all tables on the wiki page first. If you need to refresh your memory about `BeautifulSoup`, please check the external reference link towards the end of this lab\n"
   ]
  },
  {
   "cell_type": "code",
   "execution_count": 64,
   "metadata": {
    "tags": []
   },
   "outputs": [
    {
     "data": {
      "text/plain": [
       "<tr>\n",
       "<th rowspan=\"2\" scope=\"row\" style=\"text-align:center;\">1\n",
       "</th>\n",
       "<td>4 June 2010,<br/>18:45\n",
       "</td>\n",
       "<td><a href=\"/wiki/Falcon_9_v1.0\" title=\"Falcon 9 v1.0\">F9 v1.0</a><sup class=\"reference\" id=\"cite_ref-MuskMay2012_13-0\"><a href=\"#cite_note-MuskMay2012-13\">[7]</a></sup><br/>B0003.1<sup class=\"reference\" id=\"cite_ref-block_numbers_14-0\"><a href=\"#cite_note-block_numbers-14\">[8]</a></sup>\n",
       "</td>\n",
       "<td><a href=\"/wiki/Cape_Canaveral_Space_Force_Station\" title=\"Cape Canaveral Space Force Station\">CCAFS</a>,<br/><a href=\"/wiki/Cape_Canaveral_Space_Launch_Complex_40\" title=\"Cape Canaveral Space Launch Complex 40\">SLC-40</a>\n",
       "</td>\n",
       "<td><a href=\"/wiki/Dragon_Spacecraft_Qualification_Unit\" title=\"Dragon Spacecraft Qualification Unit\">Dragon Spacecraft Qualification Unit</a>\n",
       "</td>\n",
       "<td>\n",
       "</td>\n",
       "<td><a href=\"/wiki/Low_Earth_orbit\" title=\"Low Earth orbit\">LEO</a>\n",
       "</td>\n",
       "<td><a href=\"/wiki/SpaceX\" title=\"SpaceX\">SpaceX</a>\n",
       "</td>\n",
       "<td class=\"table-success\" style=\"background: #9EFF9E; vertical-align: middle; text-align: center;\">Success\n",
       "</td>\n",
       "<td class=\"table-failure\" style=\"background: #FFC7C7; vertical-align: middle; text-align: center;\">Failure<sup class=\"reference\" id=\"cite_ref-ns20110930_15-0\"><a href=\"#cite_note-ns20110930-15\">[9]</a></sup><sup class=\"reference\" id=\"cite_ref-16\"><a href=\"#cite_note-16\">[10]</a></sup><br/><small>(parachute)</small>\n",
       "</td></tr>"
      ]
     },
     "execution_count": 64,
     "metadata": {},
     "output_type": "execute_result"
    }
   ],
   "source": [
    "# Use the find_all function in the BeautifulSoup object, with element type `table`\n",
    "# Assign the result to a list called `html_tables`\n",
    "html_tables=soup.find_all(\"tr\")\n",
    "html_tables[3]"
   ]
  },
  {
   "cell_type": "markdown",
   "metadata": {},
   "source": [
    "Starting from the third table is our target table contains the actual launch records.\n"
   ]
  },
  {
   "cell_type": "code",
   "execution_count": 14,
   "metadata": {
    "tags": []
   },
   "outputs": [
    {
     "name": "stdout",
     "output_type": "stream",
     "text": [
      "<tr>\n",
      "<th scope=\"col\">Flight No.\n",
      "</th>\n",
      "<th scope=\"col\">Date and<br/>time (<a href=\"/wiki/Coordinated_Universal_Time\" title=\"Coordinated Universal Time\">UTC</a>)\n",
      "</th>\n",
      "<th scope=\"col\"><a href=\"/wiki/List_of_Falcon_9_first-stage_boosters\" title=\"List of Falcon 9 first-stage boosters\">Version,<br/>Booster</a> <sup class=\"reference\" id=\"cite_ref-booster_11-0\"><a href=\"#cite_note-booster-11\">[b]</a></sup>\n",
      "</th>\n",
      "<th scope=\"col\">Launch site\n",
      "</th>\n",
      "<th scope=\"col\">Payload<sup class=\"reference\" id=\"cite_ref-Dragon_12-0\"><a href=\"#cite_note-Dragon-12\">[c]</a></sup>\n",
      "</th>\n",
      "<th scope=\"col\">Payload mass\n",
      "</th>\n",
      "<th scope=\"col\">Orbit\n",
      "</th>\n",
      "<th scope=\"col\">Customer\n",
      "</th>\n",
      "<th scope=\"col\">Launch<br/>outcome\n",
      "</th>\n",
      "<th scope=\"col\"><a href=\"/wiki/Falcon_9_first-stage_landing_tests\" title=\"Falcon 9 first-stage landing tests\">Booster<br/>landing</a>\n",
      "</th></tr>\n"
     ]
    }
   ],
   "source": [
    "# Let's print the third table and check its content\n",
    "first_launch_table = html_tables[2]\n",
    "print(first_launch_table)"
   ]
  },
  {
   "cell_type": "markdown",
   "metadata": {},
   "source": [
    "You should able to see the columns names embedded in the table header elements `<th>` as follows:\n"
   ]
  },
  {
   "cell_type": "markdown",
   "metadata": {},
   "source": [
    "```\n",
    "<tr>\n",
    "<th scope=\"col\">Flight No.\n",
    "</th>\n",
    "<th scope=\"col\">Date and<br/>time (<a href=\"/wiki/Coordinated_Universal_Time\" title=\"Coordinated Universal Time\">UTC</a>)\n",
    "</th>\n",
    "<th scope=\"col\"><a href=\"/wiki/List_of_Falcon_9_first-stage_boosters\" title=\"List of Falcon 9 first-stage boosters\">Version,<br/>Booster</a> <sup class=\"reference\" id=\"cite_ref-booster_11-0\"><a href=\"#cite_note-booster-11\">[b]</a></sup>\n",
    "</th>\n",
    "<th scope=\"col\">Launch site\n",
    "</th>\n",
    "<th scope=\"col\">Payload<sup class=\"reference\" id=\"cite_ref-Dragon_12-0\"><a href=\"#cite_note-Dragon-12\">[c]</a></sup>\n",
    "</th>\n",
    "<th scope=\"col\">Payload mass\n",
    "</th>\n",
    "<th scope=\"col\">Orbit\n",
    "</th>\n",
    "<th scope=\"col\">Customer\n",
    "</th>\n",
    "<th scope=\"col\">Launch<br/>outcome\n",
    "</th>\n",
    "<th scope=\"col\"><a href=\"/wiki/Falcon_9_first-stage_landing_tests\" title=\"Falcon 9 first-stage landing tests\">Booster<br/>landing</a>\n",
    "</th></tr>\n",
    "```\n"
   ]
  },
  {
   "cell_type": "markdown",
   "metadata": {},
   "source": [
    "Next, we just need to iterate through the `<th>` elements and apply the provided `extract_column_from_header()` to extract column name one by one\n"
   ]
  },
  {
   "cell_type": "code",
   "execution_count": 26,
   "metadata": {
    "tags": []
   },
   "outputs": [],
   "source": [
    "column_names = []\n",
    "for a in first_launch_table:\n",
    "    column_names.append(a)\n",
    "    \n",
    "\n",
    "# Apply find_all() function with `th` element on first_launch_table\n",
    "# Iterate each th element and apply the provided extract_column_from_header() to get a column name\n",
    "# Append the Non-empty column name (`if name is not None and len(name) > 0`) into a list called column_names\n"
   ]
  },
  {
   "cell_type": "markdown",
   "metadata": {},
   "source": [
    "Check the extracted column names\n"
   ]
  },
  {
   "cell_type": "code",
   "execution_count": 28,
   "metadata": {
    "tags": []
   },
   "outputs": [
    {
     "data": {
      "text/plain": [
       "'\\n'"
      ]
     },
     "execution_count": 28,
     "metadata": {},
     "output_type": "execute_result"
    }
   ],
   "source": [
    "column_names.pop(0)"
   ]
  },
  {
   "cell_type": "code",
   "execution_count": 46,
   "metadata": {
    "tags": []
   },
   "outputs": [],
   "source": [
    "column_names = []\n",
    "for a in first_launch_table:\n",
    "    b=a.text\n",
    "    column_names.append(b)"
   ]
  },
  {
   "cell_type": "code",
   "execution_count": 49,
   "metadata": {
    "tags": []
   },
   "outputs": [],
   "source": [
    "new_column_names=[]\n",
    "for a in column_names:\n",
    "    b=a.replace(\"\\n\",\"\")\n",
    "    new_column_names.append(b)"
   ]
  },
  {
   "cell_type": "code",
   "execution_count": 53,
   "metadata": {
    "tags": []
   },
   "outputs": [],
   "source": [
    "new_column_names.remove(\"\")"
   ]
  },
  {
   "cell_type": "code",
   "execution_count": 55,
   "metadata": {
    "tags": []
   },
   "outputs": [],
   "source": [
    "while new_column_names.count(\"\")>0:\n",
    "    new_column_names.remove(\"\")\n",
    "    "
   ]
  },
  {
   "cell_type": "code",
   "execution_count": 57,
   "metadata": {
    "tags": []
   },
   "outputs": [],
   "source": [
    "column_names=new_column_names"
   ]
  },
  {
   "cell_type": "code",
   "execution_count": 92,
   "metadata": {
    "tags": []
   },
   "outputs": [
    {
     "data": {
      "text/plain": [
       "['Flight No.',\n",
       " 'Date andtime (UTC)',\n",
       " 'Version,Booster [b]',\n",
       " 'Launch site',\n",
       " 'Payload[c]',\n",
       " 'Payload mass',\n",
       " 'Orbit',\n",
       " 'Customer',\n",
       " 'Launchoutcome',\n",
       " 'Boosterlanding']"
      ]
     },
     "execution_count": 92,
     "metadata": {},
     "output_type": "execute_result"
    }
   ],
   "source": [
    "column_names"
   ]
  },
  {
   "cell_type": "markdown",
   "metadata": {},
   "source": [
    "## TASK 3: Create a data frame by parsing the launch HTML tables\n"
   ]
  },
  {
   "cell_type": "markdown",
   "metadata": {},
   "source": [
    "We will create an empty dictionary with keys from the extracted column names in the previous task. Later, this dictionary will be converted into a Pandas dataframe\n"
   ]
  },
  {
   "cell_type": "code",
   "execution_count": 95,
   "metadata": {
    "tags": []
   },
   "outputs": [],
   "source": [
    "launch_dict= dict.fromkeys(column_names)\n",
    "\n",
    "# Remove an irrelvant column\n",
    "del launch_dict['Date andtime (UTC)']\n",
    "\n",
    "# Let's initial the launch_dict with each value to be an empty list\n",
    "launch_dict['Flight No.'] = []\n",
    "launch_dict['Launch site'] = []\n",
    "launch_dict['Payload[c]'] = []\n",
    "launch_dict['Payload mass'] = []\n",
    "launch_dict['Orbit'] = []\n",
    "launch_dict['Customer'] = []\n",
    "launch_dict['Launchoutcome'] = []\n",
    "# Added some new columns\n",
    "launch_dict['Version,Booster[b]']=[]\n",
    "launch_dict['Date']=[]\n",
    "launch_dict['Time']=[]"
   ]
  },
  {
   "cell_type": "code",
   "execution_count": 101,
   "metadata": {
    "tags": []
   },
   "outputs": [],
   "source": [
    "launch_dict.pop(\"Version,Booster [b]\")"
   ]
  },
  {
   "cell_type": "code",
   "execution_count": 102,
   "metadata": {
    "tags": []
   },
   "outputs": [
    {
     "data": {
      "text/plain": [
       "{'Flight No.': [],\n",
       " 'Launch site': [],\n",
       " 'Payload[c]': [],\n",
       " 'Payload mass': [],\n",
       " 'Orbit': [],\n",
       " 'Customer': [],\n",
       " 'Launchoutcome': [],\n",
       " 'Boosterlanding': None,\n",
       " 'Version,Booster[b]': [],\n",
       " 'Date': [],\n",
       " 'Time': []}"
      ]
     },
     "execution_count": 102,
     "metadata": {},
     "output_type": "execute_result"
    }
   ],
   "source": [
    "launch_dict"
   ]
  },
  {
   "cell_type": "markdown",
   "metadata": {},
   "source": [
    "Next, we just need to fill up the `launch_dict` with launch records extracted from table rows.\n"
   ]
  },
  {
   "cell_type": "markdown",
   "metadata": {},
   "source": [
    "Usually, HTML tables in Wiki pages are likely to contain unexpected annotations and other types of noises, such as reference links `B0004.1[8]`, missing values `N/A [e]`, inconsistent formatting, etc.\n"
   ]
  },
  {
   "cell_type": "markdown",
   "metadata": {},
   "source": [
    "To simplify the parsing process, we have provided an incomplete code snippet below to help you to fill up the `launch_dict`. Please complete the following code snippet with TODOs or you can choose to write your own logic to parse all launch tables:\n"
   ]
  },
  {
   "cell_type": "code",
   "execution_count": 74,
   "metadata": {
    "tags": []
   },
   "outputs": [],
   "source": [
    "table_content=soup.find_all(\"tbody\")\n",
    "table_content=table_content[9]"
   ]
  },
  {
   "cell_type": "code",
   "execution_count": 89,
   "metadata": {
    "tags": []
   },
   "outputs": [],
   "source": [
    "table_content_int=table_content.find_all(\"tr\")\n",
    "table_content_int=table_content_int[1:]"
   ]
  },
  {
   "cell_type": "code",
   "execution_count": 111,
   "metadata": {
    "tags": []
   },
   "outputs": [],
   "source": [
    "table_ce=[]\n",
    "for a in table_content_int:\n",
    "    for b in a:\n",
    "        c=b.text\n",
    "        table_ce.append(c)\n",
    "        "
   ]
  },
  {
   "cell_type": "code",
   "execution_count": 117,
   "metadata": {
    "tags": []
   },
   "outputs": [],
   "source": [
    "table_ceb=[]\n",
    "for n in table_ce:\n",
    "    a=n.replace(\"\\n\",\"\",)\n",
    "    table_ceb.append(a)\n",
    "\n",
    "    "
   ]
  },
  {
   "cell_type": "code",
   "execution_count": 118,
   "metadata": {
    "tags": []
   },
   "outputs": [],
   "source": [
    "table_ce=table_ceb"
   ]
  },
  {
   "cell_type": "code",
   "execution_count": 120,
   "metadata": {
    "tags": []
   },
   "outputs": [],
   "source": [
    "while table_ce.count(\"\")>0:\n",
    "    table_ce.remove(\"\")"
   ]
  },
  {
   "cell_type": "code",
   "execution_count": 124,
   "metadata": {
    "tags": []
   },
   "outputs": [],
   "source": [
    "launch_dict['Flight No.']=table_ce[::11]"
   ]
  },
  {
   "cell_type": "code",
   "execution_count": 127,
   "metadata": {
    "tags": []
   },
   "outputs": [],
   "source": [
    "launch_dict['Version,Booster[b]']=table_ce[2::11]"
   ]
  },
  {
   "cell_type": "code",
   "execution_count": 129,
   "metadata": {
    "tags": []
   },
   "outputs": [],
   "source": [
    "launch_dict['Launch site'] =table_ce[3::11]"
   ]
  },
  {
   "cell_type": "code",
   "execution_count": 131,
   "metadata": {
    "tags": []
   },
   "outputs": [],
   "source": [
    "launch_dict['Payload[c]']=table_ce[4::11]"
   ]
  },
  {
   "cell_type": "code",
   "execution_count": 201,
   "metadata": {
    "tags": []
   },
   "outputs": [
    {
     "data": {
      "text/plain": [
       "['15,600 (34,400\\xa0lb)[5]',\n",
       " '12,050 (26,570\\xa0lb)',\n",
       " '15,600 (34,400\\xa0lb)[5]',\n",
       " '15,600 (34,400\\xa0lb)[5]',\n",
       " '1,977 (4,359\\xa0lb)[507]',\n",
       " '15,600 (34,400\\xa0lb)[5]',\n",
       " '15,600 (34,400\\xa0lb)[5]',\n",
       " '12,530 (27,620\\xa0lb)[519]',\n",
       " '15,600 (34,400\\xa0lb)[5]',\n",
       " '15,410 (33,970\\xa0lb)[523]',\n",
       " '4,311 (9,504\\xa0lb)[530]',\n",
       " '5,000–6,000 (11,000–13,000\\xa0lb)',\n",
       " '14,932 (32,919\\xa0lb)',\n",
       " '~15,440 (34,040\\xa0lb)',\n",
       " '3,130 (6,900\\xa0lb)[558]',\n",
       " '15,600 (34,400\\xa0lb)[5]',\n",
       " '15,600 (34,400\\xa0lb)[5]',\n",
       " '15,600 (34,400\\xa0lb)[5]',\n",
       " '15,600 (34,400\\xa0lb)',\n",
       " '4,311 (9,504\\xa0lb)',\n",
       " '~12,500 (27,600\\xa0lb)',\n",
       " '1,192 (2,628\\xa0lb)',\n",
       " '15,600 (34,400\\xa0lb)',\n",
       " '2,972 (6,552\\xa0lb)',\n",
       " '7,000 (15,000\\xa0lb)',\n",
       " 'Classified']"
      ]
     },
     "execution_count": 201,
     "metadata": {},
     "output_type": "execute_result"
    }
   ],
   "source": [
    "xasil=[]\n",
    "for i in table_ce[5::11]:\n",
    "    a=i.replace(\"\\xa0kg\",\"\")\n",
    "    xasil.append(a)\n",
    "xasil"
   ]
  },
  {
   "cell_type": "code",
   "execution_count": 202,
   "metadata": {
    "tags": []
   },
   "outputs": [
    {
     "data": {
      "text/plain": [
       "['15,600 ',\n",
       " '12,050 ',\n",
       " '15,600 ',\n",
       " '15,600 ',\n",
       " '1,977 ',\n",
       " '15,600 ',\n",
       " '15,600 ',\n",
       " '12,530 ',\n",
       " '15,600 ',\n",
       " '15,410 ',\n",
       " '4,311 ',\n",
       " '5,000–6,000 ',\n",
       " '14,932 ',\n",
       " '~15,440 ',\n",
       " '3,130 ',\n",
       " '15,600 ',\n",
       " '15,600 ',\n",
       " '15,600 ',\n",
       " '15,600 ',\n",
       " '4,311 ',\n",
       " '~12,500 ',\n",
       " '1,192 ',\n",
       " '15,600 ',\n",
       " '2,972 ',\n",
       " '7,000 ',\n",
       " 'Classifie']"
      ]
     },
     "execution_count": 202,
     "metadata": {},
     "output_type": "execute_result"
    }
   ],
   "source": [
    "xasil1=[]\n",
    "for i in xasil:\n",
    "    beginning=i.find(\"(\")\n",
    "    a=i[:beginning]\n",
    "    xasil1.append(a)\n",
    "xasil=xasil1\n",
    "xasil"
   ]
  },
  {
   "cell_type": "code",
   "execution_count": 203,
   "metadata": {
    "tags": []
   },
   "outputs": [
    {
     "name": "stdout",
     "output_type": "stream",
     "text": [
      "10\n"
     ]
    }
   ],
   "source": [
    "a=10\n",
    "b=11\n",
    "if a<b:\n",
    "    print(a)"
   ]
  },
  {
   "cell_type": "code",
   "execution_count": 210,
   "metadata": {
    "tags": []
   },
   "outputs": [
    {
     "data": {
      "text/plain": [
       "['15,600 ',\n",
       " '12,050 ',\n",
       " '15,600 ',\n",
       " '15,600 ',\n",
       " '1,977 ',\n",
       " '15,600 ',\n",
       " '15,600 ',\n",
       " '12,530 ',\n",
       " '15,600 ',\n",
       " '15,410 ',\n",
       " '4,311 ',\n",
       " '5,500',\n",
       " '14,932 ',\n",
       " '15,440 ',\n",
       " '3,130 ',\n",
       " '15,600 ',\n",
       " '15,600 ',\n",
       " '15,600 ',\n",
       " '15,600 ',\n",
       " '4,311 ',\n",
       " '12,500 ',\n",
       " '1,192 ',\n",
       " '15,600 ',\n",
       " '2,972 ',\n",
       " '7,000 ',\n",
       " 'Classifie']"
      ]
     },
     "execution_count": 210,
     "metadata": {},
     "output_type": "execute_result"
    }
   ],
   "source": [
    "xasil1=[]\n",
    "for a in xasil:\n",
    "\n",
    "    if a == \"5,000–6,000 \":\n",
    "        a=\"5,500\"\n",
    "    xasil1.append(a)\n",
    "xasil1"
   ]
  },
  {
   "cell_type": "code",
   "execution_count": 211,
   "metadata": {
    "tags": []
   },
   "outputs": [],
   "source": [
    "xasil=[]\n",
    "for a in xasil1:\n",
    "    b=str(a).replace(\"~\",\"\")\n",
    "    xasil.append(b)"
   ]
  },
  {
   "cell_type": "code",
   "execution_count": 212,
   "metadata": {
    "tags": []
   },
   "outputs": [
    {
     "data": {
      "text/plain": [
       "['15,600 ',\n",
       " '12,050 ',\n",
       " '15,600 ',\n",
       " '15,600 ',\n",
       " '1,977 ',\n",
       " '15,600 ',\n",
       " '15,600 ',\n",
       " '12,530 ',\n",
       " '15,600 ',\n",
       " '15,410 ',\n",
       " '4,311 ',\n",
       " '5,500',\n",
       " '14,932 ',\n",
       " '15,440 ',\n",
       " '3,130 ',\n",
       " '15,600 ',\n",
       " '15,600 ',\n",
       " '15,600 ',\n",
       " '15,600 ',\n",
       " '4,311 ',\n",
       " '12,500 ',\n",
       " '1,192 ',\n",
       " '15,600 ',\n",
       " '2,972 ',\n",
       " '7,000 ',\n",
       " 'Classifie']"
      ]
     },
     "execution_count": 212,
     "metadata": {},
     "output_type": "execute_result"
    }
   ],
   "source": [
    "xasil"
   ]
  },
  {
   "cell_type": "code",
   "execution_count": 213,
   "metadata": {
    "tags": []
   },
   "outputs": [],
   "source": [
    "xasil1=[]\n",
    "for a in xasil:\n",
    "    b=a.replace(\",\",\"\")\n",
    "    xasil1.append(b)"
   ]
  },
  {
   "cell_type": "code",
   "execution_count": 214,
   "metadata": {
    "tags": []
   },
   "outputs": [
    {
     "data": {
      "text/plain": [
       "['15600 ',\n",
       " '12050 ',\n",
       " '15600 ',\n",
       " '15600 ',\n",
       " '1977 ',\n",
       " '15600 ',\n",
       " '15600 ',\n",
       " '12530 ',\n",
       " '15600 ',\n",
       " '15410 ',\n",
       " '4311 ',\n",
       " '5500',\n",
       " '14932 ',\n",
       " '15440 ',\n",
       " '3130 ',\n",
       " '15600 ',\n",
       " '15600 ',\n",
       " '15600 ',\n",
       " '15600 ',\n",
       " '4311 ',\n",
       " '12500 ',\n",
       " '1192 ',\n",
       " '15600 ',\n",
       " '2972 ',\n",
       " '7000 ',\n",
       " 'Classifie']"
      ]
     },
     "execution_count": 214,
     "metadata": {},
     "output_type": "execute_result"
    }
   ],
   "source": [
    "xasil1"
   ]
  },
  {
   "cell_type": "code",
   "execution_count": 216,
   "metadata": {
    "tags": []
   },
   "outputs": [],
   "source": [
    "xasil1.remove(\"Classifie\")"
   ]
  },
  {
   "cell_type": "code",
   "execution_count": 217,
   "metadata": {
    "tags": []
   },
   "outputs": [],
   "source": [
    "xasil=[]\n",
    "for a in xasil1:\n",
    "    b=float(a)\n",
    "    xasil.append(b)"
   ]
  },
  {
   "cell_type": "code",
   "execution_count": 219,
   "metadata": {
    "tags": []
   },
   "outputs": [],
   "source": [
    "launch_dict['Payload mass'] = xasil"
   ]
  },
  {
   "cell_type": "code",
   "execution_count": null,
   "metadata": {},
   "outputs": [],
   "source": []
  },
  {
   "cell_type": "code",
   "execution_count": 86,
   "metadata": {
    "tags": []
   },
   "outputs": [],
   "source": [
    "list_data=[]\n",
    "for a in table_content_int:\n",
    "    b=a.text\n",
    "    list_data.append(b)"
   ]
  },
  {
   "cell_type": "code",
   "execution_count": 221,
   "metadata": {
    "tags": []
   },
   "outputs": [],
   "source": [
    "launch_dict['Orbit'] =table_ce[6::11]"
   ]
  },
  {
   "cell_type": "code",
   "execution_count": 223,
   "metadata": {
    "tags": []
   },
   "outputs": [],
   "source": [
    "launch_dict['Customer'] =table_ce[7::11]"
   ]
  },
  {
   "cell_type": "code",
   "execution_count": 224,
   "metadata": {
    "tags": []
   },
   "outputs": [],
   "source": [
    "launch_dict['Launchoutcome'] = table_ce[8::11]"
   ]
  },
  {
   "cell_type": "code",
   "execution_count": 231,
   "metadata": {
    "tags": []
   },
   "outputs": [],
   "source": [
    "Booster=[]\n",
    "for a in table_ce[9::11]:\n",
    "    ending=a.find(\"(\")\n",
    "    if ending==-1:\n",
    "        b=a;\n",
    "    else:b=a[:ending]\n",
    "    Booster.append(b)"
   ]
  },
  {
   "cell_type": "code",
   "execution_count": 233,
   "metadata": {
    "tags": []
   },
   "outputs": [],
   "source": [
    "launch_dict['Version,Booster[b]']=Booster"
   ]
  },
  {
   "cell_type": "code",
   "execution_count": null,
   "metadata": {},
   "outputs": [],
   "source": [
    "launch_dict['Date']=[]\n",
    "launch_dict['Time']=[]"
   ]
  },
  {
   "cell_type": "code",
   "execution_count": 240,
   "metadata": {
    "tags": []
   },
   "outputs": [],
   "source": [
    "launch_dict['Date']=[]\n",
    "for a in table_ce[1::11]:\n",
    "    seperator=a.find(\"2020\")\n",
    "    b=a[:seperator+4]\n",
    "    launch_dict['Date'].append(b)"
   ]
  },
  {
   "cell_type": "code",
   "execution_count": 241,
   "metadata": {
    "tags": []
   },
   "outputs": [
    {
     "data": {
      "text/plain": [
       "['7 January 2020',\n",
       " '19 January 2020',\n",
       " '29 January 2020',\n",
       " '17 February 2020',\n",
       " '7 March 2020',\n",
       " '18 March 2020',\n",
       " '22 April 2020',\n",
       " '30 May 2020',\n",
       " '4 June 2020',\n",
       " '13 June 2020',\n",
       " '30 June 2020',\n",
       " '20 July 2020',\n",
       " '7 August 2020',\n",
       " '18 August 2020',\n",
       " '30 August 2020',\n",
       " '3 September 2020',\n",
       " '6 October 2020',\n",
       " '18 October 2020',\n",
       " '24 October 2020',\n",
       " '5 November 2020',\n",
       " '16 November 2020',\n",
       " '21 November 2020',\n",
       " '25 November 2020',\n",
       " '6 December 2020',\n",
       " '13 December 2020',\n",
       " '19 December 2020']"
      ]
     },
     "execution_count": 241,
     "metadata": {},
     "output_type": "execute_result"
    }
   ],
   "source": [
    "launch_dict['Date']"
   ]
  },
  {
   "cell_type": "code",
   "execution_count": 244,
   "metadata": {
    "tags": []
   },
   "outputs": [],
   "source": [
    "launch_dict['Time']=[]\n",
    "time=[]\n",
    "for a in table_ce[1::11]:\n",
    "    beginning=a.find(\"2020\")\n",
    "    ending=a.find(\"[\")\n",
    "    b=a[beginning+4:ending]\n",
    "    time.append(b)"
   ]
  },
  {
   "cell_type": "code",
   "execution_count": 247,
   "metadata": {
    "tags": []
   },
   "outputs": [],
   "source": [
    "time1=[]\n",
    "for x in time:\n",
    "    z=x.replace(\",\",\"\")\n",
    "    time1.append(z)"
   ]
  },
  {
   "cell_type": "code",
   "execution_count": 249,
   "metadata": {
    "tags": []
   },
   "outputs": [],
   "source": [
    "time=[]\n",
    "for x in time1:\n",
    "    z=x.replace(\" \",\"\")\n",
    "    time.append(z)"
   ]
  },
  {
   "cell_type": "code",
   "execution_count": 251,
   "metadata": {
    "tags": []
   },
   "outputs": [],
   "source": [
    "launch_dict['Time']=time"
   ]
  },
  {
   "cell_type": "code",
   "execution_count": null,
   "metadata": {},
   "outputs": [],
   "source": [
    "extracted_row = 0\n",
    "#Extract each table \n",
    "for table_number,table in enumerate(soup.find_all('table',\"wikitable plainrowheaders collapsible\")):\n",
    "   # get table row \n",
    "    for rows in table.find_all(\"tr\"):\n",
    "        #check to see if first table heading is as number corresponding to launch a number \n",
    "        if rows.th:\n",
    "            if rows.th.string:\n",
    "                flight_number=rows.th.string.strip()\n",
    "                flag=flight_number.isdigit()\n",
    "        else:\n",
    "            flag=False\n",
    "        #get table element \n",
    "        row=rows.find_all('td')\n",
    "        #if it is number save cells in a dictonary \n",
    "        if flag:\n",
    "            extracted_row += 1\n",
    "            # Flight Number value\n",
    "            # TODO: Append the flight_number into launch_dict with key `Flight No.`\n",
    "            #print(flight_number)\n",
    "            datatimelist=date_time(row[0])\n",
    "            \n",
    "            # Date value\n",
    "            # TODO: Append the date into launch_dict with key `Date`\n",
    "            date = datatimelist[0].strip(',')\n",
    "            #print(date)\n",
    "            \n",
    "            # Time value\n",
    "            # TODO: Append the time into launch_dict with key `Time`\n",
    "            time = datatimelist[1]\n",
    "            #print(time)\n",
    "              \n",
    "            # Booster version\n",
    "            # TODO: Append the bv into launch_dict with key `Version Booster`\n",
    "            bv=booster_version(row[1])\n",
    "            if not(bv):\n",
    "                bv=row[1].a.string\n",
    "            print(bv)\n",
    "            \n",
    "            # Launch Site\n",
    "            # TODO: Append the bv into launch_dict with key `Launch Site`\n",
    "            launch_site = row[2].a.string\n",
    "            #print(launch_site)\n",
    "            \n",
    "            # Payload\n",
    "            # TODO: Append the payload into launch_dict with key `Payload`\n",
    "            payload = row[3].a.string\n",
    "            #print(payload)\n",
    "            \n",
    "            # Payload Mass\n",
    "            # TODO: Append the payload_mass into launch_dict with key `Payload mass`\n",
    "            payload_mass = get_mass(row[4])\n",
    "            #print(payload)\n",
    "            \n",
    "            # Orbit\n",
    "            # TODO: Append the orbit into launch_dict with key `Orbit`\n",
    "            orbit = row[5].a.string\n",
    "            #print(orbit)\n",
    "            \n",
    "            # Customer\n",
    "            # TODO: Append the customer into launch_dict with key `Customer`\n",
    "            customer = row[6].a.string\n",
    "            #print(customer)\n",
    "            \n",
    "            # Launch outcome\n",
    "            # TODO: Append the launch_outcome into launch_dict with key `Launch outcome`\n",
    "            launch_outcome = list(row[7].strings)[0]\n",
    "            #print(launch_outcome)\n",
    "            \n",
    "            # Booster landing\n",
    "            # TODO: Append the launch_outcome into launch_dict with key `Booster landing`\n",
    "            booster_landing = landing_status(row[8])\n",
    "            #print(booster_landing)\n",
    "            "
   ]
  },
  {
   "cell_type": "markdown",
   "metadata": {},
   "source": [
    "After you have fill in the parsed launch record values into `launch_dict`, you can create a dataframe from it.\n"
   ]
  },
  {
   "cell_type": "code",
   "execution_count": 252,
   "metadata": {
    "tags": []
   },
   "outputs": [
    {
     "name": "stderr",
     "output_type": "stream",
     "text": [
      "/home/jupyterlab/conda/envs/python/lib/python3.7/site-packages/ipykernel_launcher.py:1: DeprecationWarning: The default dtype for empty Series will be 'object' instead of 'float64' in a future version. Specify a dtype explicitly to silence this warning.\n",
      "  \"\"\"Entry point for launching an IPython kernel.\n"
     ]
    }
   ],
   "source": [
    "df= pd.DataFrame({ key:pd.Series(value) for key, value in launch_dict.items() })"
   ]
  },
  {
   "cell_type": "code",
   "execution_count": 253,
   "metadata": {
    "tags": []
   },
   "outputs": [
    {
     "data": {
      "text/html": [
       "<div>\n",
       "<style scoped>\n",
       "    .dataframe tbody tr th:only-of-type {\n",
       "        vertical-align: middle;\n",
       "    }\n",
       "\n",
       "    .dataframe tbody tr th {\n",
       "        vertical-align: top;\n",
       "    }\n",
       "\n",
       "    .dataframe thead th {\n",
       "        text-align: right;\n",
       "    }\n",
       "</style>\n",
       "<table border=\"1\" class=\"dataframe\">\n",
       "  <thead>\n",
       "    <tr style=\"text-align: right;\">\n",
       "      <th></th>\n",
       "      <th>Flight No.</th>\n",
       "      <th>Launch site</th>\n",
       "      <th>Payload[c]</th>\n",
       "      <th>Payload mass</th>\n",
       "      <th>Orbit</th>\n",
       "      <th>Customer</th>\n",
       "      <th>Launchoutcome</th>\n",
       "      <th>Boosterlanding</th>\n",
       "      <th>Version,Booster[b]</th>\n",
       "      <th>Date</th>\n",
       "      <th>Time</th>\n",
       "    </tr>\n",
       "  </thead>\n",
       "  <tbody>\n",
       "    <tr>\n",
       "      <th>0</th>\n",
       "      <td>78</td>\n",
       "      <td>CCAFS,SLC-40</td>\n",
       "      <td>Starlink 2 v1.0 (60 satellites)</td>\n",
       "      <td>15600.0</td>\n",
       "      <td>LEO</td>\n",
       "      <td>SpaceX</td>\n",
       "      <td>Success</td>\n",
       "      <td>NaN</td>\n",
       "      <td>Success</td>\n",
       "      <td>7 January 2020</td>\n",
       "      <td>02:19:21</td>\n",
       "    </tr>\n",
       "    <tr>\n",
       "      <th>1</th>\n",
       "      <td>79</td>\n",
       "      <td>KSC,LC-39A</td>\n",
       "      <td>Crew Dragon in-flight abort test[495](Dragon C...</td>\n",
       "      <td>12050.0</td>\n",
       "      <td>Sub-orbital[496]</td>\n",
       "      <td>NASA (CTS)[497]</td>\n",
       "      <td>Success</td>\n",
       "      <td>NaN</td>\n",
       "      <td>No attempt</td>\n",
       "      <td>19 January 2020</td>\n",
       "      <td>15:30</td>\n",
       "    </tr>\n",
       "    <tr>\n",
       "      <th>2</th>\n",
       "      <td>80</td>\n",
       "      <td>CCAFS,SLC-40</td>\n",
       "      <td>Starlink 3 v1.0 (60 satellites)</td>\n",
       "      <td>15600.0</td>\n",
       "      <td>LEO</td>\n",
       "      <td>SpaceX</td>\n",
       "      <td>Success</td>\n",
       "      <td>NaN</td>\n",
       "      <td>Success</td>\n",
       "      <td>29 January 2020</td>\n",
       "      <td>14:07</td>\n",
       "    </tr>\n",
       "    <tr>\n",
       "      <th>3</th>\n",
       "      <td>81</td>\n",
       "      <td>CCAFS,SLC-40</td>\n",
       "      <td>Starlink 4 v1.0 (60 satellites)</td>\n",
       "      <td>15600.0</td>\n",
       "      <td>LEO</td>\n",
       "      <td>SpaceX</td>\n",
       "      <td>Success</td>\n",
       "      <td>NaN</td>\n",
       "      <td>Failure</td>\n",
       "      <td>17 February 2020</td>\n",
       "      <td>15:05</td>\n",
       "    </tr>\n",
       "    <tr>\n",
       "      <th>4</th>\n",
       "      <td>82</td>\n",
       "      <td>CCAFS,SLC-40</td>\n",
       "      <td>SpaceX CRS-20(Dragon C112.3 ♺)</td>\n",
       "      <td>1977.0</td>\n",
       "      <td>LEO (ISS)</td>\n",
       "      <td>NASA (CRS)</td>\n",
       "      <td>Success</td>\n",
       "      <td>NaN</td>\n",
       "      <td>Success</td>\n",
       "      <td>7 March 2020</td>\n",
       "      <td>04:50</td>\n",
       "    </tr>\n",
       "    <tr>\n",
       "      <th>5</th>\n",
       "      <td>83</td>\n",
       "      <td>KSC,LC-39A</td>\n",
       "      <td>Starlink 5 v1.0 (60 satellites)</td>\n",
       "      <td>15600.0</td>\n",
       "      <td>LEO</td>\n",
       "      <td>SpaceX</td>\n",
       "      <td>Success</td>\n",
       "      <td>NaN</td>\n",
       "      <td>Failure</td>\n",
       "      <td>18 March 2020</td>\n",
       "      <td>12:16</td>\n",
       "    </tr>\n",
       "    <tr>\n",
       "      <th>6</th>\n",
       "      <td>84</td>\n",
       "      <td>KSC,LC-39A</td>\n",
       "      <td>Starlink 6 v1.0 (60 satellites)</td>\n",
       "      <td>15600.0</td>\n",
       "      <td>LEO</td>\n",
       "      <td>SpaceX</td>\n",
       "      <td>Success</td>\n",
       "      <td>NaN</td>\n",
       "      <td>Success</td>\n",
       "      <td>22 April 2020</td>\n",
       "      <td>19:30</td>\n",
       "    </tr>\n",
       "    <tr>\n",
       "      <th>7</th>\n",
       "      <td>85</td>\n",
       "      <td>KSC,LC-39A</td>\n",
       "      <td>Crew Dragon Demo-2[414](Crew Dragon C206.1 End...</td>\n",
       "      <td>12530.0</td>\n",
       "      <td>LEO (ISS)</td>\n",
       "      <td>NASA (CCDev)</td>\n",
       "      <td>Success</td>\n",
       "      <td>NaN</td>\n",
       "      <td>Success</td>\n",
       "      <td>30 May 2020</td>\n",
       "      <td>19:22</td>\n",
       "    </tr>\n",
       "    <tr>\n",
       "      <th>8</th>\n",
       "      <td>86</td>\n",
       "      <td>CCAFS,SLC-40</td>\n",
       "      <td>Starlink 7 v1.0 (60 satellites)</td>\n",
       "      <td>15600.0</td>\n",
       "      <td>LEO</td>\n",
       "      <td>SpaceX</td>\n",
       "      <td>Success</td>\n",
       "      <td>NaN</td>\n",
       "      <td>Success</td>\n",
       "      <td>4 June 2020</td>\n",
       "      <td>01:25</td>\n",
       "    </tr>\n",
       "    <tr>\n",
       "      <th>9</th>\n",
       "      <td>87</td>\n",
       "      <td>CCAFS,SLC-40</td>\n",
       "      <td>Starlink 8 v1.0 (58 satellites),[524][525]SkyS...</td>\n",
       "      <td>15410.0</td>\n",
       "      <td>LEO</td>\n",
       "      <td>SpaceXPlanet Labs</td>\n",
       "      <td>Success</td>\n",
       "      <td>NaN</td>\n",
       "      <td>Success</td>\n",
       "      <td>13 June 2020</td>\n",
       "      <td>09:21</td>\n",
       "    </tr>\n",
       "    <tr>\n",
       "      <th>10</th>\n",
       "      <td>88</td>\n",
       "      <td>CCAFS,SLC-40</td>\n",
       "      <td>GPS III-03 (Matthew Henson)</td>\n",
       "      <td>4311.0</td>\n",
       "      <td>MEO</td>\n",
       "      <td>U.S. Space Force[530]</td>\n",
       "      <td>Success</td>\n",
       "      <td>NaN</td>\n",
       "      <td>Success</td>\n",
       "      <td>30 June 2020</td>\n",
       "      <td>20:10:46</td>\n",
       "    </tr>\n",
       "    <tr>\n",
       "      <th>11</th>\n",
       "      <td>89</td>\n",
       "      <td>CCAFS,SLC-40</td>\n",
       "      <td>ANASIS-II</td>\n",
       "      <td>5500.0</td>\n",
       "      <td>GTO</td>\n",
       "      <td>Republic of Korea Army</td>\n",
       "      <td>Success</td>\n",
       "      <td>NaN</td>\n",
       "      <td>Success</td>\n",
       "      <td>20 July 2020</td>\n",
       "      <td>21:30</td>\n",
       "    </tr>\n",
       "    <tr>\n",
       "      <th>12</th>\n",
       "      <td>90</td>\n",
       "      <td>KSC,LC-39A</td>\n",
       "      <td>Starlink 9 v1.0 (57 Satellites),[524]SXRS-1 (B...</td>\n",
       "      <td>14932.0</td>\n",
       "      <td>LEO</td>\n",
       "      <td>SpaceXSpaceflight Industries (BlackSky)</td>\n",
       "      <td>Success</td>\n",
       "      <td>NaN</td>\n",
       "      <td>Success</td>\n",
       "      <td>7 August 2020</td>\n",
       "      <td>05:12</td>\n",
       "    </tr>\n",
       "    <tr>\n",
       "      <th>13</th>\n",
       "      <td>91</td>\n",
       "      <td>CCAFS,SLC-40</td>\n",
       "      <td>Starlink 10 v1.0 (58 satellites)SkySat-19, -20...</td>\n",
       "      <td>15440.0</td>\n",
       "      <td>LEO</td>\n",
       "      <td>SpaceXPlanet Labs</td>\n",
       "      <td>Success</td>\n",
       "      <td>NaN</td>\n",
       "      <td>Success</td>\n",
       "      <td>18 August 2020</td>\n",
       "      <td>14:31</td>\n",
       "    </tr>\n",
       "    <tr>\n",
       "      <th>14</th>\n",
       "      <td>92</td>\n",
       "      <td>CCAFS,SLC-40</td>\n",
       "      <td>SAOCOM 1B[556]GNOMES 1[556]Tyvak-0172[557]</td>\n",
       "      <td>3130.0</td>\n",
       "      <td>SSO</td>\n",
       "      <td>CONAEPlanetIQTyvak</td>\n",
       "      <td>Success</td>\n",
       "      <td>NaN</td>\n",
       "      <td>Success</td>\n",
       "      <td>30 August 2020</td>\n",
       "      <td>23:18</td>\n",
       "    </tr>\n",
       "    <tr>\n",
       "      <th>15</th>\n",
       "      <td>93</td>\n",
       "      <td>KSC,LC-39A</td>\n",
       "      <td>Starlink 11 v1.0 (60 satellites)</td>\n",
       "      <td>15600.0</td>\n",
       "      <td>LEO</td>\n",
       "      <td>SpaceX</td>\n",
       "      <td>Success</td>\n",
       "      <td>NaN</td>\n",
       "      <td>Success</td>\n",
       "      <td>3 September 2020</td>\n",
       "      <td>12:46:14</td>\n",
       "    </tr>\n",
       "    <tr>\n",
       "      <th>16</th>\n",
       "      <td>94</td>\n",
       "      <td>KSC,LC-39A</td>\n",
       "      <td>Starlink 12 v1.0 (60 satellites)</td>\n",
       "      <td>15600.0</td>\n",
       "      <td>LEO</td>\n",
       "      <td>SpaceX</td>\n",
       "      <td>Success</td>\n",
       "      <td>NaN</td>\n",
       "      <td>Success</td>\n",
       "      <td>6 October 2020</td>\n",
       "      <td>11:29:34</td>\n",
       "    </tr>\n",
       "    <tr>\n",
       "      <th>17</th>\n",
       "      <td>95</td>\n",
       "      <td>KSC,LC-39A</td>\n",
       "      <td>Starlink 13 v1.0 (60 satellites)</td>\n",
       "      <td>15600.0</td>\n",
       "      <td>LEO</td>\n",
       "      <td>SpaceX</td>\n",
       "      <td>Success</td>\n",
       "      <td>NaN</td>\n",
       "      <td>Success</td>\n",
       "      <td>18 October 2020</td>\n",
       "      <td>12:25:57</td>\n",
       "    </tr>\n",
       "    <tr>\n",
       "      <th>18</th>\n",
       "      <td>96</td>\n",
       "      <td>CCAFS,SLC-40</td>\n",
       "      <td>Starlink 14 v1.0 (60 satellites)</td>\n",
       "      <td>15600.0</td>\n",
       "      <td>LEO</td>\n",
       "      <td>SpaceX</td>\n",
       "      <td>Success</td>\n",
       "      <td>NaN</td>\n",
       "      <td>Success</td>\n",
       "      <td>24 October 2020</td>\n",
       "      <td>15:31:34</td>\n",
       "    </tr>\n",
       "    <tr>\n",
       "      <th>19</th>\n",
       "      <td>97</td>\n",
       "      <td>CCAFS,SLC-40</td>\n",
       "      <td>GPS III-04 (Sacagawea)[541][573]</td>\n",
       "      <td>4311.0</td>\n",
       "      <td>MEO</td>\n",
       "      <td>USSF</td>\n",
       "      <td>Success</td>\n",
       "      <td>NaN</td>\n",
       "      <td>Success</td>\n",
       "      <td>5 November 2020</td>\n",
       "      <td>23:24:23</td>\n",
       "    </tr>\n",
       "    <tr>\n",
       "      <th>20</th>\n",
       "      <td>98</td>\n",
       "      <td>KSC,LC-39A</td>\n",
       "      <td>Crew-1(Crew Dragon C207.1 Resilience)</td>\n",
       "      <td>12500.0</td>\n",
       "      <td>LEO (ISS)</td>\n",
       "      <td>NASA (CCP)[497]</td>\n",
       "      <td>Success</td>\n",
       "      <td>NaN</td>\n",
       "      <td>Success</td>\n",
       "      <td>16 November 2020</td>\n",
       "      <td>00:27</td>\n",
       "    </tr>\n",
       "    <tr>\n",
       "      <th>21</th>\n",
       "      <td>99</td>\n",
       "      <td>VAFB,SLC-4E</td>\n",
       "      <td>Sentinel-6 Michael Freilich (Jason-CS A)</td>\n",
       "      <td>1192.0</td>\n",
       "      <td>LEO</td>\n",
       "      <td>NASA / NOAA / ESA / EUMETSAT</td>\n",
       "      <td>Success</td>\n",
       "      <td>NaN</td>\n",
       "      <td>Success</td>\n",
       "      <td>21 November 2020</td>\n",
       "      <td>17:17:08</td>\n",
       "    </tr>\n",
       "    <tr>\n",
       "      <th>22</th>\n",
       "      <td>100</td>\n",
       "      <td>CCAFS,SLC-40</td>\n",
       "      <td>Starlink 15 v1.0 (60 satellites)</td>\n",
       "      <td>15600.0</td>\n",
       "      <td>LEO</td>\n",
       "      <td>SpaceX</td>\n",
       "      <td>Success</td>\n",
       "      <td>NaN</td>\n",
       "      <td>Success</td>\n",
       "      <td>25 November 2020</td>\n",
       "      <td>02:13</td>\n",
       "    </tr>\n",
       "    <tr>\n",
       "      <th>23</th>\n",
       "      <td>101</td>\n",
       "      <td>KSC,LC-39A</td>\n",
       "      <td>SpaceX CRS-21(Dragon C208.1)</td>\n",
       "      <td>2972.0</td>\n",
       "      <td>LEO (ISS)</td>\n",
       "      <td>NASA (CRS)</td>\n",
       "      <td>Success</td>\n",
       "      <td>NaN</td>\n",
       "      <td>Success</td>\n",
       "      <td>6 December 2020</td>\n",
       "      <td>16:17:08</td>\n",
       "    </tr>\n",
       "    <tr>\n",
       "      <th>24</th>\n",
       "      <td>102</td>\n",
       "      <td>CCSFS,SLC-40[597]</td>\n",
       "      <td>SXM-7</td>\n",
       "      <td>7000.0</td>\n",
       "      <td>GTO</td>\n",
       "      <td>Sirius XM</td>\n",
       "      <td>Success</td>\n",
       "      <td>NaN</td>\n",
       "      <td>Success</td>\n",
       "      <td>13 December 2020</td>\n",
       "      <td>17:30:00</td>\n",
       "    </tr>\n",
       "    <tr>\n",
       "      <th>25</th>\n",
       "      <td>103</td>\n",
       "      <td>KSC,LC-39A</td>\n",
       "      <td>NROL-108</td>\n",
       "      <td>NaN</td>\n",
       "      <td>LEO</td>\n",
       "      <td>NRO</td>\n",
       "      <td>Success</td>\n",
       "      <td>NaN</td>\n",
       "      <td>Success</td>\n",
       "      <td>19 December 2020</td>\n",
       "      <td>14:00:00</td>\n",
       "    </tr>\n",
       "  </tbody>\n",
       "</table>\n",
       "</div>"
      ],
      "text/plain": [
       "   Flight No.        Launch site  \\\n",
       "0          78       CCAFS,SLC-40   \n",
       "1          79         KSC,LC-39A   \n",
       "2          80       CCAFS,SLC-40   \n",
       "3          81       CCAFS,SLC-40   \n",
       "4          82       CCAFS,SLC-40   \n",
       "5          83         KSC,LC-39A   \n",
       "6          84         KSC,LC-39A   \n",
       "7          85         KSC,LC-39A   \n",
       "8          86       CCAFS,SLC-40   \n",
       "9          87       CCAFS,SLC-40   \n",
       "10         88       CCAFS,SLC-40   \n",
       "11         89       CCAFS,SLC-40   \n",
       "12         90         KSC,LC-39A   \n",
       "13         91       CCAFS,SLC-40   \n",
       "14         92       CCAFS,SLC-40   \n",
       "15         93         KSC,LC-39A   \n",
       "16         94         KSC,LC-39A   \n",
       "17         95         KSC,LC-39A   \n",
       "18         96       CCAFS,SLC-40   \n",
       "19         97       CCAFS,SLC-40   \n",
       "20         98         KSC,LC-39A   \n",
       "21         99        VAFB,SLC-4E   \n",
       "22        100       CCAFS,SLC-40   \n",
       "23        101         KSC,LC-39A   \n",
       "24        102  CCSFS,SLC-40[597]   \n",
       "25        103         KSC,LC-39A   \n",
       "\n",
       "                                           Payload[c]  Payload mass  \\\n",
       "0                     Starlink 2 v1.0 (60 satellites)       15600.0   \n",
       "1   Crew Dragon in-flight abort test[495](Dragon C...       12050.0   \n",
       "2                     Starlink 3 v1.0 (60 satellites)       15600.0   \n",
       "3                     Starlink 4 v1.0 (60 satellites)       15600.0   \n",
       "4                      SpaceX CRS-20(Dragon C112.3 ♺)        1977.0   \n",
       "5                     Starlink 5 v1.0 (60 satellites)       15600.0   \n",
       "6                     Starlink 6 v1.0 (60 satellites)       15600.0   \n",
       "7   Crew Dragon Demo-2[414](Crew Dragon C206.1 End...       12530.0   \n",
       "8                     Starlink 7 v1.0 (60 satellites)       15600.0   \n",
       "9   Starlink 8 v1.0 (58 satellites),[524][525]SkyS...       15410.0   \n",
       "10                        GPS III-03 (Matthew Henson)        4311.0   \n",
       "11                                          ANASIS-II        5500.0   \n",
       "12  Starlink 9 v1.0 (57 Satellites),[524]SXRS-1 (B...       14932.0   \n",
       "13  Starlink 10 v1.0 (58 satellites)SkySat-19, -20...       15440.0   \n",
       "14         SAOCOM 1B[556]GNOMES 1[556]Tyvak-0172[557]        3130.0   \n",
       "15                   Starlink 11 v1.0 (60 satellites)       15600.0   \n",
       "16                   Starlink 12 v1.0 (60 satellites)       15600.0   \n",
       "17                   Starlink 13 v1.0 (60 satellites)       15600.0   \n",
       "18                   Starlink 14 v1.0 (60 satellites)       15600.0   \n",
       "19                   GPS III-04 (Sacagawea)[541][573]        4311.0   \n",
       "20              Crew-1(Crew Dragon C207.1 Resilience)       12500.0   \n",
       "21           Sentinel-6 Michael Freilich (Jason-CS A)        1192.0   \n",
       "22                   Starlink 15 v1.0 (60 satellites)       15600.0   \n",
       "23                       SpaceX CRS-21(Dragon C208.1)        2972.0   \n",
       "24                                              SXM-7        7000.0   \n",
       "25                                           NROL-108           NaN   \n",
       "\n",
       "               Orbit                                 Customer Launchoutcome  \\\n",
       "0                LEO                                   SpaceX       Success   \n",
       "1   Sub-orbital[496]                          NASA (CTS)[497]       Success   \n",
       "2                LEO                                   SpaceX       Success   \n",
       "3                LEO                                   SpaceX       Success   \n",
       "4          LEO (ISS)                               NASA (CRS)       Success   \n",
       "5                LEO                                   SpaceX       Success   \n",
       "6                LEO                                   SpaceX       Success   \n",
       "7          LEO (ISS)                             NASA (CCDev)       Success   \n",
       "8                LEO                                   SpaceX       Success   \n",
       "9                LEO                        SpaceXPlanet Labs       Success   \n",
       "10               MEO                    U.S. Space Force[530]       Success   \n",
       "11               GTO                   Republic of Korea Army       Success   \n",
       "12               LEO  SpaceXSpaceflight Industries (BlackSky)       Success   \n",
       "13               LEO                        SpaceXPlanet Labs       Success   \n",
       "14               SSO                       CONAEPlanetIQTyvak       Success   \n",
       "15               LEO                                   SpaceX       Success   \n",
       "16               LEO                                   SpaceX       Success   \n",
       "17               LEO                                   SpaceX       Success   \n",
       "18               LEO                                   SpaceX       Success   \n",
       "19               MEO                                     USSF       Success   \n",
       "20         LEO (ISS)                          NASA (CCP)[497]       Success   \n",
       "21               LEO             NASA / NOAA / ESA / EUMETSAT       Success   \n",
       "22               LEO                                   SpaceX       Success   \n",
       "23         LEO (ISS)                               NASA (CRS)       Success   \n",
       "24               GTO                                Sirius XM       Success   \n",
       "25               LEO                                      NRO       Success   \n",
       "\n",
       "    Boosterlanding Version,Booster[b]              Date      Time  \n",
       "0              NaN            Success    7 January 2020  02:19:21  \n",
       "1              NaN         No attempt   19 January 2020     15:30  \n",
       "2              NaN            Success   29 January 2020     14:07  \n",
       "3              NaN            Failure  17 February 2020     15:05  \n",
       "4              NaN            Success      7 March 2020     04:50  \n",
       "5              NaN            Failure     18 March 2020     12:16  \n",
       "6              NaN            Success     22 April 2020     19:30  \n",
       "7              NaN            Success       30 May 2020     19:22  \n",
       "8              NaN            Success       4 June 2020     01:25  \n",
       "9              NaN            Success      13 June 2020     09:21  \n",
       "10             NaN            Success      30 June 2020  20:10:46  \n",
       "11             NaN            Success      20 July 2020     21:30  \n",
       "12             NaN            Success     7 August 2020     05:12  \n",
       "13             NaN            Success    18 August 2020     14:31  \n",
       "14             NaN            Success    30 August 2020     23:18  \n",
       "15             NaN            Success  3 September 2020  12:46:14  \n",
       "16             NaN            Success    6 October 2020  11:29:34  \n",
       "17             NaN            Success   18 October 2020  12:25:57  \n",
       "18             NaN            Success   24 October 2020  15:31:34  \n",
       "19             NaN            Success   5 November 2020  23:24:23  \n",
       "20             NaN            Success  16 November 2020     00:27  \n",
       "21             NaN            Success  21 November 2020  17:17:08  \n",
       "22             NaN            Success  25 November 2020     02:13  \n",
       "23             NaN            Success   6 December 2020  16:17:08  \n",
       "24             NaN            Success  13 December 2020  17:30:00  \n",
       "25             NaN            Success  19 December 2020  14:00:00  "
      ]
     },
     "execution_count": 253,
     "metadata": {},
     "output_type": "execute_result"
    }
   ],
   "source": [
    "df"
   ]
  },
  {
   "cell_type": "markdown",
   "metadata": {},
   "source": [
    "We can now export it to a <b>CSV</b> for the next section, but to make the answers consistent and in case you have difficulties finishing this lab. \n",
    "\n",
    "Following labs will be using a provided dataset to make each lab independent. \n"
   ]
  },
  {
   "cell_type": "markdown",
   "metadata": {},
   "source": [
    "<code>df.to_csv('spacex_web_scraped.csv', index=False)</code>\n"
   ]
  },
  {
   "cell_type": "markdown",
   "metadata": {},
   "source": [
    "## Authors\n"
   ]
  },
  {
   "cell_type": "markdown",
   "metadata": {},
   "source": [
    "<a href=\"https://www.linkedin.com/in/yan-luo-96288783/\">Yan Luo</a>\n"
   ]
  },
  {
   "cell_type": "markdown",
   "metadata": {},
   "source": [
    "<a href=\"https://www.linkedin.com/in/nayefaboutayoun/\">Nayef Abou Tayoun</a>\n"
   ]
  },
  {
   "cell_type": "markdown",
   "metadata": {},
   "source": [
    "## Change Log\n"
   ]
  },
  {
   "cell_type": "markdown",
   "metadata": {},
   "source": [
    "| Date (YYYY-MM-DD) | Version | Changed By | Change Description      |\n",
    "| ----------------- | ------- | ---------- | ----------------------- |\n",
    "| 2021-06-09        | 1.0     | Yan Luo    | Tasks updates           |\n",
    "| 2020-11-10        | 1.0     | Nayef      | Created the initial version |\n"
   ]
  },
  {
   "cell_type": "markdown",
   "metadata": {},
   "source": [
    "Copyright © 2021 IBM Corporation. All rights reserved.\n"
   ]
  }
 ],
 "metadata": {
  "kernelspec": {
   "display_name": "Python",
   "language": "python",
   "name": "conda-env-python-py"
  },
  "language_info": {
   "codemirror_mode": {
    "name": "ipython",
    "version": 3
   },
   "file_extension": ".py",
   "mimetype": "text/x-python",
   "name": "python",
   "nbconvert_exporter": "python",
   "pygments_lexer": "ipython3",
   "version": "3.7.12"
  }
 },
 "nbformat": 4,
 "nbformat_minor": 4
}
